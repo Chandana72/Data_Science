{
  "nbformat": 4,
  "nbformat_minor": 0,
  "metadata": {
    "colab": {
      "provenance": []
    },
    "kernelspec": {
      "name": "python3",
      "display_name": "Python 3"
    },
    "language_info": {
      "name": "python"
    }
  },
  "cells": [
    {
      "cell_type": "markdown",
      "source": [
        "####Data Preprocessing"
      ],
      "metadata": {
        "id": "5Jp_ymtTnjUf"
      }
    },
    {
      "cell_type": "code",
      "source": [
        "import pandas as pd\n",
        "import numpy as np\n",
        "from sklearn.metrics.pairwise import cosine_similarity\n",
        "from sklearn.preprocessing import MinMaxScaler\n",
        "from sklearn.metrics import precision_score, recall_score, f1_score\n",
        "\n",
        "df = pd.read_csv(\"/content/sample_data/anime.csv\")\n",
        "\n",
        "df.columns = df.columns.str.strip().str.lower()\n",
        "\n",
        "if \"name\" in df.columns:\n",
        "    df = df.rename(columns={\"name\": \"title\"})\n",
        "\n",
        "required_columns = {\"title\", \"genre\", \"rating\", \"members\", \"episodes\"}\n",
        "missing_columns = required_columns - set(df.columns)\n",
        "print(df.head())\n",
        "print(df.info())\n",
        "print(df.describe())\n",
        "\n",
        "df = df.copy()\n",
        "df[\"genre\"] = df[\"genre\"].fillna(\"\")\n",
        "df[\"rating\"] = df[\"rating\"].fillna(df[\"rating\"].mean())\n",
        "df[\"episodes\"] = df[\"episodes\"].replace(\"Unknown\", np.nan)\n",
        "df[\"episodes\"] = pd.to_numeric(df[\"episodes\"], errors=\"coerce\")\n",
        "df[\"episodes\"] = df[\"episodes\"].fillna(df[\"episodes\"].median())\n"
      ],
      "metadata": {
        "colab": {
          "base_uri": "https://localhost:8080/"
        },
        "id": "-GmGPh_xiarZ",
        "outputId": "32bc9f11-5b68-4858-b4d3-af920175ef02"
      },
      "execution_count": 45,
      "outputs": [
        {
          "output_type": "stream",
          "name": "stdout",
          "text": [
            "   anime_id                             title  \\\n",
            "0     32281                    Kimi no Na wa.   \n",
            "1      5114  Fullmetal Alchemist: Brotherhood   \n",
            "2     28977                          Gintama°   \n",
            "3      9253                       Steins;Gate   \n",
            "4      9969                     Gintama&#039;   \n",
            "\n",
            "                                               genre   type episodes  rating  \\\n",
            "0               Drama, Romance, School, Supernatural  Movie        1    9.37   \n",
            "1  Action, Adventure, Drama, Fantasy, Magic, Mili...     TV       64    9.26   \n",
            "2  Action, Comedy, Historical, Parody, Samurai, S...     TV       51    9.25   \n",
            "3                                   Sci-Fi, Thriller     TV       24    9.17   \n",
            "4  Action, Comedy, Historical, Parody, Samurai, S...     TV       51    9.16   \n",
            "\n",
            "   members  \n",
            "0   200630  \n",
            "1   793665  \n",
            "2   114262  \n",
            "3   673572  \n",
            "4   151266  \n",
            "<class 'pandas.core.frame.DataFrame'>\n",
            "RangeIndex: 12294 entries, 0 to 12293\n",
            "Data columns (total 7 columns):\n",
            " #   Column    Non-Null Count  Dtype  \n",
            "---  ------    --------------  -----  \n",
            " 0   anime_id  12294 non-null  int64  \n",
            " 1   title     12294 non-null  object \n",
            " 2   genre     12232 non-null  object \n",
            " 3   type      12269 non-null  object \n",
            " 4   episodes  12294 non-null  object \n",
            " 5   rating    12064 non-null  float64\n",
            " 6   members   12294 non-null  int64  \n",
            "dtypes: float64(1), int64(2), object(4)\n",
            "memory usage: 672.5+ KB\n",
            "None\n",
            "           anime_id        rating       members\n",
            "count  12294.000000  12064.000000  1.229400e+04\n",
            "mean   14058.221653      6.473902  1.807134e+04\n",
            "std    11455.294701      1.026746  5.482068e+04\n",
            "min        1.000000      1.670000  5.000000e+00\n",
            "25%     3484.250000      5.880000  2.250000e+02\n",
            "50%    10260.500000      6.570000  1.550000e+03\n",
            "75%    24794.500000      7.180000  9.437000e+03\n",
            "max    34527.000000     10.000000  1.013917e+06\n"
          ]
        }
      ]
    },
    {
      "cell_type": "markdown",
      "source": [
        "####Feature Extraction"
      ],
      "metadata": {
        "id": "BSLA9Cj1n1gY"
      }
    },
    {
      "cell_type": "code",
      "source": [
        "scaler = MinMaxScaler()\n",
        "df[[\"rating\", \"members\", \"episodes\"]] = scaler.fit_transform(df[[\"rating\", \"members\", \"episodes\"]])\n",
        "\n",
        "df[\"genre\"] = df[\"genre\"].str.lower().str.replace(\", \", \",\")\n",
        "genre_dummies = df[\"genre\"].str.get_dummies(sep=\",\")\n",
        "\n",
        "features = pd.concat([df[[\"rating\", \"members\", \"episodes\"]], genre_dummies], axis=1)\n"
      ],
      "metadata": {
        "id": "jCMPuWLHiaoT"
      },
      "execution_count": 46,
      "outputs": []
    },
    {
      "cell_type": "markdown",
      "source": [
        "####Recommendation System"
      ],
      "metadata": {
        "id": "At6kIqhKn5Vx"
      }
    },
    {
      "cell_type": "code",
      "source": [
        "similarity_matrix = cosine_similarity(features)\n",
        "\n",
        "def recommend_anime(anime_title, num_recommendations=5):\n",
        "    if anime_title not in df[\"title\"].values:\n",
        "        return f\"Anime '{anime_title}' not found!\"\n",
        "\n",
        "    idx = df[df[\"title\"] == anime_title].index[0]\n",
        "\n",
        "    similarity_scores = list(enumerate(similarity_matrix[idx]))\n",
        "    similarity_scores = sorted(similarity_scores, key=lambda x: x[1], reverse=True)\n",
        "\n",
        "    main_title_words = set(anime_title.lower().split())\n",
        "    filtered_indices = [\n",
        "        i[0]\n",
        "        for i in similarity_scores[1:]\n",
        "        if not any(word in df[\"title\"].iloc[i[0]].lower() for word in main_title_words)\n",
        "    ]\n",
        "\n",
        "    top_indices = filtered_indices[:num_recommendations]\n",
        "    return df[\"title\"].iloc[top_indices].tolist()\n"
      ],
      "metadata": {
        "id": "8dFryaqOialt"
      },
      "execution_count": 47,
      "outputs": []
    },
    {
      "cell_type": "code",
      "source": [
        "anime_to_recommend = \"Naruto\"\n",
        "recommended_anime = recommend_anime(anime_to_recommend)\n",
        "\n",
        "print(f\"Recommended Anime for '{anime_to_recommend}':\")\n",
        "for i, anime in enumerate(recommended_anime, 1):\n",
        "    print(f\"   {i}. {anime}\")"
      ],
      "metadata": {
        "colab": {
          "base_uri": "https://localhost:8080/"
        },
        "id": "dbhoWmmjoMHl",
        "outputId": "87270f01-d8a2-41c5-d899-24a2798be0b4"
      },
      "execution_count": 52,
      "outputs": [
        {
          "output_type": "stream",
          "name": "stdout",
          "text": [
            "Recommended Anime for 'Naruto':\n",
            "   1. Katekyo Hitman Reborn!\n",
            "   2. Kyutai Panic Adventure!\n",
            "   3. Battle Spirits: Ryuuko no Ken\n",
            "   4. Dragon Ball Z\n",
            "   5. Dragon Ball Kai\n"
          ]
        }
      ]
    },
    {
      "cell_type": "markdown",
      "source": [
        "####Evaluation"
      ],
      "metadata": {
        "id": "Jg-Ojd6Vn-SV"
      }
    },
    {
      "cell_type": "code",
      "source": [
        "ground_truth = {\n",
        "    \"Naruto\": [\"Bleach\", \"Dragon Ball Z\", \"One Piece\", \"Fairy Tail\", \"Hunter x Hunter\"],\n",
        "    \"Attack on Titan\": [\"Death Note\", \"Tokyo Ghoul\", \"Fullmetal Alchemist\", \"Code Geass\", \"Steins;Gate\"],\n",
        "    \"Sword Art Online\": [\"Log Horizon\", \"No Game No Life\", \"Overlord\", \"Re:Zero\", \"Accel World\"]\n",
        "}\n",
        "\n",
        "precision_list = []\n",
        "recall_list = []\n",
        "f1_list = []\n",
        "\n",
        "for anime, true_recommendations in ground_truth.items():\n",
        "    predicted_recommendations = recommend_anime(anime)\n",
        "\n",
        "    y_true = [1 if rec in true_recommendations else 0 for rec in predicted_recommendations]\n",
        "    y_pred = [1] * len(predicted_recommendations)\n",
        "\n",
        "    precision = precision_score(y_true, y_pred, zero_division=1)\n",
        "    recall = recall_score(y_true, y_pred, zero_division=1)\n",
        "    f1 = f1_score(y_true, y_pred, zero_division=1)\n",
        "\n",
        "    precision_list.append(precision)\n",
        "    recall_list.append(recall)\n",
        "    f1_list.append(f1)\n",
        "\n",
        "if precision_list:\n",
        "    avg_precision = np.mean(precision_list)\n",
        "    avg_recall = np.mean(recall_list)\n",
        "    avg_f1 = np.mean(f1_list)\n",
        "else:\n",
        "    avg_precision = avg_recall = avg_f1 = 0\n"
      ],
      "metadata": {
        "id": "iccHGJnIiaiU"
      },
      "execution_count": 49,
      "outputs": []
    },
    {
      "cell_type": "code",
      "source": [
        "print(\"Evaluation Metrics:\")\n",
        "print(f\"Average Precision: {avg_precision:.4f}\")\n",
        "print(f\"Average Recall: {avg_recall:.4f}\")\n",
        "print(f\"Average F1-Score: {avg_f1:.4f}\")"
      ],
      "metadata": {
        "colab": {
          "base_uri": "https://localhost:8080/"
        },
        "id": "VzW5An3-iagg",
        "outputId": "1c64a7f8-a393-4d46-da03-97c6949a0cdd"
      },
      "execution_count": 53,
      "outputs": [
        {
          "output_type": "stream",
          "name": "stdout",
          "text": [
            "Evaluation Metrics:\n",
            "Average Precision: 0.0667\n",
            "Average Recall: 1.0000\n",
            "Average F1-Score: 0.1111\n"
          ]
        }
      ]
    },
    {
      "cell_type": "markdown",
      "source": [
        "####Interview Questions:\n",
        "1. Can you explain the difference between user-based and item-based collaborative filtering?\n",
        "\n",
        "  User-based collaborative filtering finds users with similar preferences and recommends items that those similar users have liked, relying on user similarity. In contrast, item-based collaborative filtering analyzes the similarity between items based on user interactions and recommends items similar to those a user has already engaged with. Item-based filtering is generally more scalable and stable since item relationships change less frequently than user preferences.\n",
        "\n",
        "2. What is collaborative filtering, and how does it work?\n",
        "\n",
        "  Collaborative filtering is a recommendation technique that suggests items based on user interactions and the preferences of similar users, without relying on item attributes. It creates a user-item matrix and applies similarity measures like cosine similarity or Pearson correlation to identify relationships. Based on these relationships, it predicts a user's preference for an item by analyzing either similar users (user-based) or similar items (item-based). While widely used in platforms like Netflix and Amazon, it faces challenges like the cold start problem and data sparsity."
      ],
      "metadata": {
        "id": "ji9LzLY5nO5E"
      }
    }
  ]
}